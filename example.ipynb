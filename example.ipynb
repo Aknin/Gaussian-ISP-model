{
 "cells": [
  {
   "cell_type": "markdown",
   "metadata": {},
   "source": [
    "# Example notebook\n",
    "\n",
    "Displays how the EM module works on an RIR stored in example.mat in matlab format."
   ]
  },
  {
   "cell_type": "code",
   "execution_count": 24,
   "metadata": {},
   "outputs": [],
   "source": [
    "from __future__ import print_function\n",
    "import numpy as np\n",
    "from IPython.display import clear_output\n",
    "\n",
    "from scipy.signal import lfilter, stft\n",
    "from scipy.linalg import toeplitz\n",
    "from scipy.signal import convolve2d, correlate2d\n",
    "import time\n",
    "import scipy.io\n",
    "\n",
    "if sys.version_info.major == 3:\n",
    "    import _pickle as pickle\n",
    "else:\n",
    "    import cPickle as pickle\n",
    "    \n",
    "import EM"
   ]
  },
  {
   "cell_type": "code",
   "execution_count": 25,
   "metadata": {},
   "outputs": [],
   "source": [
    "# Definition of the progress bar function for better readability\n",
    "def update_progress(progress):\n",
    "    bar_length = 20\n",
    "    if isinstance(progress, int):\n",
    "        progress = float(progress)\n",
    "    if not isinstance(progress, float):\n",
    "        progress = 0\n",
    "    if progress < 0:\n",
    "        progress = 0\n",
    "    if progress >= 1:\n",
    "        progress = 1\n",
    "\n",
    "    block = int(round(bar_length * progress))\n",
    "\n",
    "    clear_output(wait = True)\n",
    "    text = \"Progress: [{0}] {1:.1f}%\".format( \"#\" * block + \"-\" * (bar_length - block), progress * 100)\n",
    "    print(text)"
   ]
  },
  {
   "cell_type": "markdown",
   "metadata": {},
   "source": [
    "### Load example RIR\n",
    "Load an exemple dictionnary containing a RIR and the corresponding true parameters with pickle."
   ]
  },
  {
   "cell_type": "code",
   "execution_count": 26,
   "metadata": {},
   "outputs": [],
   "source": [
    "filename = \"examples/absorption/abs7_seed0.pkl\""
   ]
  },
  {
   "cell_type": "code",
   "execution_count": 27,
   "metadata": {},
   "outputs": [],
   "source": [
    "try:\n",
    "    with open(filename, 'rb') as in_file:\n",
    "        dic = pickle.load(in_file)\n",
    "except UnicodeDecodeError:\n",
    "    with open(filename, 'rb') as in_file:\n",
    "        dic = pickle.load(in_file, encoding=\"latin1\")"
   ]
  },
  {
   "cell_type": "code",
   "execution_count": 32,
   "metadata": {},
   "outputs": [],
   "source": [
    "h = dic[\"h\"] # Example RIR"
   ]
  },
  {
   "cell_type": "markdown",
   "metadata": {},
   "source": [
    "### Initialize EM algorithm"
   ]
  },
  {
   "cell_type": "code",
   "execution_count": 34,
   "metadata": {},
   "outputs": [
    {
     "name": "stdout",
     "output_type": "stream",
     "text": [
      "Initializing EM algorithm\n",
      "la init = 5.645029269476762e-06\n",
      "\n",
      "Updating R\n",
      "\n",
      "Updating mu\n",
      "Log-probability difference = -68308.06358093786\n"
     ]
    }
   ],
   "source": [
    "algo = EM.EM(h)"
   ]
  },
  {
   "cell_type": "markdown",
   "metadata": {},
   "source": [
    "### Iterate 50 times the expectation and maximization steps"
   ]
  },
  {
   "cell_type": "code",
   "execution_count": 36,
   "metadata": {},
   "outputs": [
    {
     "name": "stdout",
     "output_type": "stream",
     "text": [
      "Progress: [####################] 100.0%\n"
     ]
    }
   ],
   "source": [
    "n_iter = 50\n",
    "\n",
    "for i in range(n_iter):\n",
    "    algo.iteration()\n",
    "    update_progress(i / n_iter)\n",
    "\n",
    "update_progress(1)"
   ]
  },
  {
   "cell_type": "code",
   "execution_count": null,
   "metadata": {},
   "outputs": [],
   "source": []
  }
 ],
 "metadata": {
  "kernelspec": {
   "display_name": "Python 3",
   "language": "python",
   "name": "python3"
  },
  "language_info": {
   "codemirror_mode": {
    "name": "ipython",
    "version": 3
   },
   "file_extension": ".py",
   "mimetype": "text/x-python",
   "name": "python",
   "nbconvert_exporter": "python",
   "pygments_lexer": "ipython3",
   "version": "3.7.7"
  }
 },
 "nbformat": 4,
 "nbformat_minor": 4
}
